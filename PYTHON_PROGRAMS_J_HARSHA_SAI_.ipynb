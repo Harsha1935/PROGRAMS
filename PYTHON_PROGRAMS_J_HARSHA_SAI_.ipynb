{
  "nbformat": 4,
  "nbformat_minor": 0,
  "metadata": {
    "colab": {
      "name": "PYTHON PROGRAMS-J.HARSHA SAI.",
      "provenance": [],
      "collapsed_sections": [],
      "include_colab_link": true
    },
    "kernelspec": {
      "name": "python3",
      "display_name": "Python 3"
    },
    "language_info": {
      "name": "python"
    }
  },
  "cells": [
    {
      "cell_type": "markdown",
      "metadata": {
        "id": "view-in-github",
        "colab_type": "text"
      },
      "source": [
        "<a href=\"https://colab.research.google.com/github/Harsha1935/PROGRAMS/blob/main/PYTHON_PROGRAMS_J_HARSHA_SAI_.ipynb\" target=\"_parent\"><img src=\"https://colab.research.google.com/assets/colab-badge.svg\" alt=\"Open In Colab\"/></a>"
      ]
    },
    {
      "cell_type": "code",
      "metadata": {
        "colab": {
          "base_uri": "https://localhost:8080/"
        },
        "id": "dZNHjJDF-hsh",
        "outputId": "6a1eee5f-6654-44ea-9ae1-245c6af32f60"
      },
      "source": [
        "import cmath\n",
        "a=float(input('enter a:'))\n",
        "b=float(input('enterb:'))\n",
        "c=float(input('enter c:'))\n",
        "d=(b**2)-(4*a*c)\n",
        "sol1=(-b-cmath.sqrt(d))/(2*a)\n",
        "sol2=(-b+cmath.sqrt(d))/(2*a)\n",
        "print('sol1=',sol1)\n",
        "print('sol2=',sol2)"
      ],
      "execution_count": null,
      "outputs": [
        {
          "output_type": "stream",
          "text": [
            "enter a:2\n",
            "enterb:3\n",
            "enter c:4\n",
            "sol1= (-0.75-1.1989578808281798j)\n",
            "sol2= (-0.75+1.1989578808281798j)\n"
          ],
          "name": "stdout"
        }
      ]
    },
    {
      "cell_type": "code",
      "metadata": {
        "id": "g3BF4Bs2E2Nm"
      },
      "source": [
        ""
      ],
      "execution_count": null,
      "outputs": []
    },
    {
      "cell_type": "code",
      "metadata": {
        "colab": {
          "base_uri": "https://localhost:8080/"
        },
        "id": "9Ig80hyXE3UR",
        "outputId": "fc83f005-67c7-4f87-d85c-58d27e13bf30"
      },
      "source": [
        "#9. Programs on List Processing. (Sortings, Searchings, Permutations...)\n",
        "def searching(l):\n",
        "  low,high=0,len(l)-1\n",
        "  mid=(low+high)//2\n",
        "  x=int(input(\"Enter the value to search\\n\"))\n",
        "  while (low!=high):\n",
        "    if (x==l[mid]):\n",
        "      break\n",
        "    elif x>l[mid]:\n",
        "      low=mid+1\n",
        "      mid=(low+high)//2\n",
        "    else:\n",
        "      high=mid-1\n",
        "      mid=(low+high)//2\n",
        "  if (x==l[mid]):\n",
        "    print(\"It is in the list\")\n",
        "  else:\n",
        "    print(\"It is not available in the list\")\n",
        "def sorting(l):\n",
        "  for i in range(len(l)-1):\n",
        "    for j in range(len(l)-1):\n",
        "      if (l[j]>l[j+1]):\n",
        "        l[j],l[j+1]=l[j+1],l[j]\n",
        "def permutation(lst):\n",
        "  res=[]\n",
        "  if len(lst) == 0:\n",
        "    return []\n",
        "  if len(lst) == 1:\n",
        "    return [lst]\n",
        "  l = []\n",
        "  for i in range(len(lst)):\n",
        "    m = lst[i]\n",
        "    remLst = lst[:i] + lst[i+1:]\n",
        "    for p in permutation(remLst):\n",
        "      l.append([m] + p)\n",
        "  for i in l:\n",
        "    if i not in res:\n",
        "      res.append(i)\n",
        "  return res\n",
        "  \n",
        "l=list(map(int,input(\"Enter a list of numbers\").split()))\n",
        "ch=int(input(\"Enter your choice\\n1.Search an element\\n2.Sort\\n3.All permutations\\n\"))\n",
        "if (ch==1):\n",
        "  sorting(l)\n",
        "  searching(l)\n",
        "elif ch==2:\n",
        "  sorting(l)\n",
        "  print(l)\n",
        "else:\n",
        "  for p in permutation(l):\n",
        "    print(p)\n"
      ],
      "execution_count": null,
      "outputs": [
        {
          "output_type": "stream",
          "name": "stdout",
          "text": [
            "Enter a list of numbers23456\n",
            "Enter your choice\n",
            "1.Search an element\n",
            "2.Sort\n",
            "3.All permutations\n",
            "1\n",
            "Enter the value to search\n",
            "3\n",
            "It is not available in the list\n"
          ]
        }
      ]
    },
    {
      "cell_type": "code",
      "metadata": {
        "id": "yCNTQvf_F8Ro"
      },
      "source": [
        ""
      ],
      "execution_count": null,
      "outputs": []
    },
    {
      "cell_type": "code",
      "metadata": {
        "colab": {
          "base_uri": "https://localhost:8080/"
        },
        "id": "ZKH1mrala5Qv",
        "outputId": "bc064278-a122-4338-d781-8e6b7c1987ef"
      },
      "source": [
        "#19. Write a program to insert a value at a given position in a tuple.\n",
        "tuplex=tuple(map(int,input().split()))\n",
        "print(tuplex)\n",
        "ph=[]\n",
        "for i in tuplex:\n",
        "  ph.append(i)\n",
        "x=int(input(\"enter the position where the value to be included:\"))\n",
        "y=int(input(\"enter the value to be inserted: \"))\n",
        "ph.insert(x, y)\n",
        "tuplex = tuple(ph)\n",
        "print(tuplex)"
      ],
      "execution_count": null,
      "outputs": [
        {
          "output_type": "stream",
          "name": "stdout",
          "text": [
            "123\n",
            "(123,)\n",
            "enter the position where the value to be included:2\n",
            "enter the value to be inserted: 4\n",
            "(123, 4)\n"
          ]
        }
      ]
    },
    {
      "cell_type": "code",
      "metadata": {
        "id": "-g2W50S_JW1C"
      },
      "source": [
        ""
      ],
      "execution_count": null,
      "outputs": []
    },
    {
      "cell_type": "code",
      "metadata": {
        "id": "ZPk0kmhpJX4_"
      },
      "source": [
        "#12. Write Python Program to Count the Occurrences of Each Word and Also Count the\n",
        "#Number of Words in a “quotes.txt” File\n",
        "''' the text file must be in corrent working directory'''\n",
        "list=[]\n",
        "list1=[]\n",
        "file=open(\"quotes.txt\",\"r\")\n",
        "for c in file:\n",
        "    for words in c.split():\n",
        "      for j in words:\n",
        "        list1.append(j)\n",
        "\n",
        "      list.append(words)\n",
        "\n",
        "c=0\n",
        "for i in range(len(list)):\n",
        "    c+=1\n",
        "    print(list[i])\n",
        "    print('count=',list.count(list[i]))\n",
        "print('No of words in the given file are',c)"
      ],
      "execution_count": null,
      "outputs": []
    },
    {
      "cell_type": "code",
      "metadata": {
        "colab": {
          "base_uri": "https://localhost:8080/"
        },
        "id": "PxdU_B75R3w0",
        "outputId": "57c19a7c-83ba-44a8-f354-05a4e795e566"
      },
      "source": [
        "# parent class\n",
        "class Bird:\n",
        "    \n",
        "    def __init__(self):\n",
        "        print(\"Bird is ready\")\n",
        "\n",
        "    def whoisThis(self):\n",
        "        print(\"Bird\")\n",
        "\n",
        "    def swim(self):\n",
        "        print(\"Swim faster\")\n",
        "\n",
        "# child class\n",
        "class Penguin(Bird):\n",
        "\n",
        "    def __init__(self):\n",
        "        # call super() function\n",
        "        super().__init__()\n",
        "        print(\"Penguin is ready\")\n",
        "\n",
        "    def whoisThis(self):\n",
        "        print(\"Penguin\")\n",
        "\n",
        "    def run(self):\n",
        "        print(\"Run faster\")\n",
        "\n",
        "class Computer:\n",
        "\n",
        "    def __init__(self):\n",
        "        self.__maxprice = 900\n",
        "\n",
        "    def sell(self):\n",
        "        print(\"Selling Price: {}\".format(self.__maxprice))\n",
        "\n",
        "    def setMaxPrice(self, price):\n",
        "        self.__maxprice = price\n",
        "\n",
        "c = Computer()\n",
        "c.sell()\n",
        "\n",
        "# change the price\n",
        "c.__maxprice = 1000\n",
        "c.sell()\n",
        "\n",
        "# using setter function\n",
        "c.setMaxPrice(1000)\n",
        "c.sell()\n",
        "\n",
        "\n",
        "peggy = Penguin()\n",
        "peggy.whoisThis()\n",
        "peggy.swim()\n",
        "peggy.run()"
      ],
      "execution_count": null,
      "outputs": [
        {
          "output_type": "stream",
          "name": "stdout",
          "text": [
            "Selling Price: 900\n",
            "Selling Price: 900\n",
            "Selling Price: 1000\n",
            "Bird is ready\n",
            "Penguin is ready\n",
            "Penguin\n",
            "Swim faster\n",
            "Run faster\n"
          ]
        }
      ]
    },
    {
      "cell_type": "code",
      "metadata": {
        "colab": {
          "base_uri": "https://localhost:8080/"
        },
        "id": "97eOjHurb4rC",
        "outputId": "ec895e45-4d32-4d91-fcc2-c30eb015a157"
      },
      "source": [
        "#15. A program to perform transpose of a matrix.\n",
        "rows= int(input(\"Number of rows:\"))\n",
        "cols = int(input(\"Number of columns:\"))\n",
        "X = [ ]\n",
        "print(\"Enter the entries row-wise:\")\n",
        "B=[[int(input()) for j in range(cols)] for i in range(rows)]\n",
        "result=[[0 for j in range(cols)] for i in range(rows)]\n",
        "for i in range(len(X)):\n",
        "   for j in range(len(X[0])):\n",
        "       result[j][i] = X[i][j]\n",
        "for r in result:\n",
        "   print(r)"
      ],
      "execution_count": null,
      "outputs": [
        {
          "output_type": "stream",
          "name": "stdout",
          "text": [
            "Number of rows:1\n",
            "Number of columns:1\n",
            "Enter the entries row-wise:\n",
            "1\n",
            "[0]\n"
          ]
        }
      ]
    },
    {
      "cell_type": "code",
      "metadata": {
        "id": "ymevIN2k8gCT"
      },
      "source": [
        "#16. Write Pythonic code to find Mean, Variance and Standard Deviation for a list of\n",
        "#numbers.\n",
        "def mean(x):\n",
        "  sum=0\n",
        "  for i in range(len(x)):\n",
        "    sum+=x[i]\n",
        "  me=sum/len(x)\n",
        "  return me \n",
        "def var(y,m):\n",
        "  sum=0\n",
        "  for i in range(len(y)):\n",
        "    sum+=(y[i]-m)**2\n",
        "  va=sum/len(y)\n",
        "  return va \n",
        "def std(z): \n",
        "  return z**(0.5)\n",
        "list=[]\n",
        "n=int(input('Enter the number of elements='))\n",
        "print('Enter the elements:')\n",
        "for i in range(n):\n",
        "  e=int(input())\n",
        "  list.append(e)\n",
        "m=mean(list)\n",
        "print('Mean is',m)\n",
        "v=var(list,m)\n",
        "print('Variance is',v)\n",
        "sd=std(v)\n",
        "print('Standard deviation is',round(sd,2))"
      ],
      "execution_count": null,
      "outputs": []
    },
    {
      "cell_type": "code",
      "metadata": {
        "colab": {
          "base_uri": "https://localhost:8080/"
        },
        "id": "dZmOWptqz-ME",
        "outputId": "695e2de5-ab2b-43bc-a30b-4d97cc62ae4f"
      },
      "source": [
        "#8. Create recursive functions for GCD, Fibonacci, factorial and Towers of Hanoi problems\n",
        "def fibanocci(n):\n",
        "   if n <= 1:\n",
        "       return n\n",
        "   else:\n",
        "       return (fibanocci(n-1) + fibanocci(n-2))\n",
        "def gcd(m,n):\n",
        "  m=max(m,n)\n",
        "  n=min(m,n)\n",
        "  if m%n==0:\n",
        "    return n\n",
        "  else:\n",
        "    return gcd(n,m%n)\n",
        "def tower (n,fromrod,torod,auxirod):\n",
        "  if n==1:\n",
        "    print(\"move disk 1 from rod\",fromrod,'to rod',torod)\n",
        "  else:\n",
        "    tower(n-1,fromrod,auxirod,torod)\n",
        "    print(\"move rod\",n,\"from rod\",fromrod,\"to rod\",torod)\n",
        "    tower(n-1,auxirod,torod,fromrod)\n",
        "def fact(n):\n",
        "  if n==1:\n",
        "    return n\n",
        "  else:\n",
        "    return n*fact(n-1)\n",
        "x=input('''1:gcd 2:fibanocci 3:factorial 4:towers of hanoi''')\n",
        "if x=='1':\n",
        "  a=int(input(\"enter the first number:\"))\n",
        "  b=int(input(\"enter the second number: \"))\n",
        "  print(f\"the gcd of {a} and {b} numbers is \")\n",
        "  print(gcd(a,b))\n",
        "if x=='2':\n",
        "  n=int(input())\n",
        "  print(\"Fibonacci sequence:\")\n",
        "  for i in range(n):\n",
        "    print(fibanocci(i),end=\" \")\n",
        "if x=='3':\n",
        "  n=int(input(\"enter the number to find factorial: \"))\n",
        "  x=fact(n)\n",
        "  print(f\"the factorial {n} is {x}\")\n",
        "if x=='4':\n",
        "  n=int(input(\"Enter number of discs: \"))\n",
        "  tower(n,'A','B','C')"
      ],
      "execution_count": null,
      "outputs": [
        {
          "output_type": "stream",
          "name": "stdout",
          "text": [
            "1:gcd 2:fibanocci 3:factorial 4:towers of hanoi4\n",
            "Enter number of discs: 3\n",
            "move disk 1 from rod A to rod B\n",
            "move rod 2 from rod A to rod C\n",
            "move disk 1 from rod B to rod C\n",
            "move rod 3 from rod A to rod B\n",
            "move disk 1 from rod C to rod A\n",
            "move rod 2 from rod C to rod B\n",
            "move disk 1 from rod A to rod B\n"
          ]
        }
      ]
    },
    {
      "cell_type": "code",
      "metadata": {
        "colab": {
          "base_uri": "https://localhost:8080/"
        },
        "id": "ud2A_mM_Esfy",
        "outputId": "4e46aaca-15ec-47b4-9fb3-19b1eb2eec2c"
      },
      "source": [
        "class MyException(Exception):\n",
        "  def __init__(self,arg):\n",
        "    self.msg=arg\n",
        "try:\n",
        "  age=int(input('enter age'))\n",
        "  if age<18:\n",
        "    raise MyExpection('Under Age')\n",
        "  else:\n",
        "    print('eligible to vote')\n",
        "except MyException as e:\n",
        "  print(e)\n",
        "print('success')"
      ],
      "execution_count": null,
      "outputs": [
        {
          "output_type": "stream",
          "name": "stdout",
          "text": [
            "enter age18\n",
            "eligible to vote\n",
            "success\n"
          ]
        }
      ]
    },
    {
      "cell_type": "code",
      "metadata": {
        "colab": {
          "base_uri": "https://localhost:8080/"
        },
        "id": "Mk2kjqwXjzVG",
        "outputId": "afa84d5e-67d4-4cbe-d5f0-6e26b7b1db7c"
      },
      "source": [
        "class student:\n",
        "  def __init__(self,name):\n",
        "    self.name=name\n",
        "  def display(self):\n",
        "    print('NAME:',self.name)\n",
        "class DOB:\n",
        "  def __init__(self,d,m,y):\n",
        "     self.dd=d\n",
        "     self.mm=m\n",
        "     self.yy=y\n",
        "  def display(self):\n",
        "    print('DOB:',self.dd,'/',self.mm,'/',self.yy)\n",
        "\n",
        "s=student('harsha')\n",
        "s.display()\n",
        "d=DOB(8,9,2020)\n",
        "d.display()"
      ],
      "execution_count": null,
      "outputs": [
        {
          "output_type": "stream",
          "name": "stdout",
          "text": [
            "NAME: harsha\n",
            "DOB: 8 / 9 / 2020\n"
          ]
        }
      ]
    },
    {
      "cell_type": "code",
      "metadata": {
        "colab": {
          "base_uri": "https://localhost:8080/"
        },
        "id": "uKSkvFlqDtgm",
        "outputId": "70c7f112-40d8-40d9-d99d-a3729b8bdadd"
      },
      "source": [
        "class person:\n",
        "      def __init__(self,name,age):\n",
        "            self.name=name\n",
        "            self.age=age\n",
        "\n",
        "      def display(self):\n",
        "            print(\"Name:\",self.name)\n",
        "            print(\"Age:\",self.age)\n",
        "\n",
        "class Teacher(person):\n",
        "      def __init__(self,name,age,exp,r_area):\n",
        "            person.__init__(self,name,age)\n",
        "            self.exp=exp\n",
        "            self.r_area=r_area\n",
        "\n",
        "      def displaydata(self):\n",
        "            person.display(self)\n",
        "            print(\"EXPERIENCE:\",self.exp)\n",
        "            print(\"RESEARCH AREA:\",self.r_area)\n",
        "\n",
        "class student(person):\n",
        "      def __init__(self,name,age,course,marks):\n",
        "            person.__init__(self,name,age)\n",
        "            self.course=course\n",
        "            self.marks=marks\n",
        "\n",
        "      def displaydata(self):\n",
        "            person.display(self)\n",
        "            print(\"course:\",self.course)\n",
        "            print(\"marks:\",self.marks)\n",
        "print(\"+++++++Teacher++++++\")\n",
        "T=Teacher(\"srikanth\",45,20,\"python\")\n",
        "T.displaydata()\n",
        "print(\"++++++++++student++++++\")\n",
        "s=student(\"HS\",20,\"Btech\",100)\n",
        "s.displaydata()\n",
        "            \n"
      ],
      "execution_count": null,
      "outputs": [
        {
          "output_type": "stream",
          "name": "stdout",
          "text": [
            "+++++++Teacher++++++\n",
            "Name: srikanth\n",
            "Age: 45\n",
            "EXPERIENCE: 20\n",
            "RESEARCH AREA: python\n",
            "++++++++++student++++++\n",
            "Name: HS\n",
            "Age: 20\n",
            "course: Btech\n",
            "marks: 100\n"
          ]
        }
      ]
    },
    {
      "cell_type": "code",
      "metadata": {
        "colab": {
          "base_uri": "https://localhost:8080/"
        },
        "id": "2QmHb87i6RwW",
        "outputId": "a918d8ce-8ec9-42d0-ddbc-f43457778a99"
      },
      "source": [
        "class Base:\n",
        "  def dis(self):\n",
        "    print('In class Base')\n",
        "class Derived(Base):\n",
        "  def display (self):\n",
        "    print('In derived class')\n",
        "b=Base()\n",
        "b.dis()\n",
        "d=Derived()\n",
        "d.display()"
      ],
      "execution_count": null,
      "outputs": [
        {
          "output_type": "stream",
          "name": "stdout",
          "text": [
            "In class Base\n",
            "In derived class\n"
          ]
        }
      ]
    },
    {
      "cell_type": "code",
      "metadata": {
        "id": "6MkD-vlItTR5",
        "colab": {
          "base_uri": "https://localhost:8080/"
        },
        "outputId": "1b19def0-e6a2-4f2e-ee27-5c0dc10c3c49"
      },
      "source": [
        "# program to differentiate between class and object variables\n",
        "class ABC():\n",
        "  class_var=0  #class variable\n",
        "  def __init__(self,var):\n",
        "    ABC.class_var+=1\n",
        "    self.var=var #object variable\n",
        "    print(\"the object value is:\",var)\n",
        "    print(\"the value of class variable is:\", ABC.class_var)\n",
        "obj1=ABC(10)\n",
        "obj2=ABC(20)\n",
        "obj3=ABC(30)"
      ],
      "execution_count": null,
      "outputs": [
        {
          "output_type": "stream",
          "name": "stdout",
          "text": [
            "the object value is: 10\n",
            "the value of class variable is: 1\n",
            "the object value is: 20\n",
            "the value of class variable is: 2\n",
            "the object value is: 30\n",
            "the value of class variable is: 3\n"
          ]
        }
      ]
    },
    {
      "cell_type": "code",
      "metadata": {
        "colab": {
          "base_uri": "https://localhost:8080/"
        },
        "id": "5AXOv_oRFzgd",
        "outputId": "78942ba5-7a81-4339-ff4b-19868f2a9b48"
      },
      "source": [
        "#program illustrating the modification of an instance variable\n",
        "class Number:\n",
        "  even=0 #default value\n",
        "  def check(self,num):\n",
        "    if num%2==0:\n",
        "        self.even=1\n",
        "  def Even_odd(self,num):\n",
        "        self.check(num)\n",
        "        if self.even==1:\n",
        "          print(num,\"is even\")\n",
        "        else:\n",
        "          print(num,\"is odd\")\n",
        "n=Number()\n",
        "n.Even_odd(21)"
      ],
      "execution_count": null,
      "outputs": [
        {
          "output_type": "stream",
          "name": "stdout",
          "text": [
            "21 is odd\n"
          ]
        }
      ]
    },
    {
      "cell_type": "code",
      "metadata": {
        "id": "wV6wSEMFsaTp"
      },
      "source": [
        ""
      ],
      "execution_count": null,
      "outputs": []
    },
    {
      "cell_type": "code",
      "metadata": {
        "colab": {
          "base_uri": "https://localhost:8080/"
        },
        "id": "QvbNBIN7x2oh",
        "outputId": "eaee1fbe-4889-4d9d-d84a-dca8ef34ed4d"
      },
      "source": [
        "# Program to multiply two matrices\n",
        "A=[]\n",
        "n=int(input(\"Enter N for N x N matrix: \"))         \n",
        "print(\"Enter the element ::>\")\n",
        "for i in range(n): \n",
        "   row=[]                                      #temporary list to store the row\n",
        "   for j in range(n): \n",
        "      row.append(int(input()))           #add the input to row list\n",
        "      A.append(row)                      #add the row to the list\n",
        "print(A)\n",
        "# [[1, 2, 3], [4, 5, 6], [7, 8, 9]]\n",
        "#Display the 2D array\n",
        "print(\"Display Array In Matrix Form\")\n",
        "for i in range(n):\n",
        "   for j in range(n):\n",
        "      print(A[i][j], end=\" \")\n",
        "   print()                                        #new line\n",
        "B=[]\n",
        "n=int(input(\"Enter N for N x N matrix : \"))           #3 here\n",
        "#use list for storing 2D array\n",
        "#get the user input and store it in list (here IN : 1 to 9)\n",
        "print(\"Enter the element ::>\")\n",
        "for i in range (n): \n",
        "   row=[]                                      #temporary list to store the row\n",
        "   for j in range(n): \n",
        "      row.append(int(input()))           #add the input to row list\n",
        "      B.append(row)                       #add the row to the list\n",
        "print(B)\n",
        "# [[1, 2, 3], [4, 5, 6], [7, 8, 9]]\n",
        "#Display the 2D array\n",
        "print(\"Display Array In Matrix Form\")\n",
        "for i in range(n):\n",
        "   for j in range(n):\n",
        "      print(B[i][j], end=\" \")\n",
        "   print()                                           \n",
        "result = [[0,0,0], [0,0,0], [0,0,0]] \n",
        "for i in range(len(A)): \n",
        "   for j in range(len(B[0])): \n",
        "      for k in range(len(B)): \n",
        "         result[i][j] += A[i][k] * B[k][j] \n",
        "print(\"The Resultant Matrix Is ::>\")\n",
        "for r in result: \n",
        "   print(r) "
      ],
      "execution_count": null,
      "outputs": [
        {
          "output_type": "stream",
          "text": [
            "Enter N for N x N matrix: 1\n",
            "Enter the element ::>\n",
            "2\n",
            "[[2]]\n",
            "Display Array In Matrix Form\n",
            "2 \n",
            "Enter N for N x N matrix : 1\n",
            "Enter the element ::>\n",
            "2\n",
            "[[2]]\n",
            "Display Array In Matrix Form\n",
            "2 \n",
            "The Resultant Matrix Is ::>\n",
            "[4, 0, 0]\n",
            "[0, 0, 0]\n",
            "[0, 0, 0]\n"
          ],
          "name": "stdout"
        }
      ]
    },
    {
      "cell_type": "code",
      "metadata": {
        "id": "DTsKDbHT6ViZ"
      },
      "source": [
        ""
      ],
      "execution_count": null,
      "outputs": []
    },
    {
      "cell_type": "code",
      "metadata": {
        "id": "kewl7a0riWvq"
      },
      "source": [
        "#9. Programs on List Processing. (Sortings, Searchings, Permutations...)\n",
        "def searching(l):\n",
        "  low,high=0,len(l)-1\n",
        "  mid=(low+high)//2\n",
        "  x=int(input(\"Enter the value to search\\n\"))\n",
        "  while (low!=high):\n",
        "    if (x==l[mid]):\n",
        "      break\n",
        "    elif x>l[mid]:\n",
        "      low=mid+1\n",
        "      mid=(low+high)//2\n",
        "    else:\n",
        "      high=mid-1\n",
        "      mid=(low+high)//2\n",
        "  if (x==l[mid]):\n",
        "    print(\"It is in the list\")\n",
        "  else:\n",
        "    print(\"It is not available in the list\")\n",
        "def sorting(l):\n",
        "  for i in range(len(l)-1):\n",
        "    for j in range(len(l)-1):\n",
        "      if (l[j]>l[j+1]):\n",
        "        l[j],l[j+1]=l[j+1],l[j]\n",
        "def permutation(lst):\n",
        "  res=[]\n",
        "  if len(lst) == 0:\n",
        "    return []\n",
        "  if len(lst) == 1:\n",
        "    return [lst]\n",
        "  l = []\n",
        "  for i in range(len(lst)):\n",
        "    m = lst[i]\n",
        "    remLst = lst[:i] + lst[i+1:]\n",
        "    for p in permutation(remLst):\n",
        "      l.append([m] + p)\n",
        "  for i in l:\n",
        "    if i not in res:\n",
        "      res.append(i)\n",
        "  return res\n",
        "  \n",
        "l=list(map(int,input(\"Enter a list of numbers\").split()))\n",
        "ch=int(input(\"Enter your choice\\n1.Search an element\\n2.Sort\\n3.All permutations\\n\"))\n",
        "if (ch==1):\n",
        "  sorting(l)\n",
        "  searching(l)\n",
        "elif ch==2:\n",
        "  sorting(l)\n",
        "  print(l)\n",
        "else:\n",
        "  for p in permutation(l):\n",
        "    print(p)\n"
      ],
      "execution_count": null,
      "outputs": []
    },
    {
      "cell_type": "code",
      "metadata": {
        "id": "s4_7e38-OLYA"
      },
      "source": [
        ""
      ],
      "execution_count": null,
      "outputs": []
    },
    {
      "cell_type": "code",
      "metadata": {
        "colab": {
          "base_uri": "https://localhost:8080/"
        },
        "id": "fk0Qp2M2ONP-",
        "outputId": "0bff94d4-d1ec-4752-b16d-707ae5bf3db4"
      },
      "source": [
        "lst=[1,2,3,4,5]\n",
        "print(lst[-1])\n",
        "print(lst)"
      ],
      "execution_count": null,
      "outputs": [
        {
          "output_type": "stream",
          "text": [
            "5\n",
            "[1, 2, 3, 4, 5]\n"
          ],
          "name": "stdout"
        }
      ]
    },
    {
      "cell_type": "code",
      "metadata": {
        "id": "dS1qSEAFRhYc"
      },
      "source": [
        ""
      ],
      "execution_count": null,
      "outputs": []
    },
    {
      "cell_type": "code",
      "metadata": {
        "id": "QU13C-uja69a",
        "colab": {
          "base_uri": "https://localhost:8080/"
        },
        "outputId": "3ed4f2db-a5c8-4173-9b35-0e243db5e17b"
      },
      "source": [
        "#7. A program to demonstrate the functions in math module and ord( ), chr( ),id( ),type( ) functions\n",
        "def chartoascii(x1):\n",
        "  return (ord(x1))\n",
        "def asciitochar(y):\n",
        "  return (chr(y))\n",
        "def stid(z):\n",
        "  return (id(z))\n",
        "def typen(t):\n",
        "  return (type (t))\n",
        "x=int(input(''' 1:chartoascii 2:asciitochar 3:stid 4: typeofn'''))\n",
        "if x==1:\n",
        "  x1=input('enter the character: ')\n",
        "  p=chartoascii(x1)\n",
        "  print(p)\n",
        "if x==2:\n",
        "  y=int(input('enter the ascii value: '))\n",
        "  p=asciitochar(y)\n",
        "  print(p)\n",
        "if x==3:\n",
        "  z=input('enter the value to see the storage id: ')\n",
        "  p=stid(z)\n",
        "  print(p)\n",
        "if x==4:\n",
        "  t=input('enter something to see its type: ')\n",
        "  p=typen(t)\n",
        "  print(p)\n",
        "\n",
        "\n",
        "\n"
      ],
      "execution_count": null,
      "outputs": [
        {
          "output_type": "stream",
          "name": "stdout",
          "text": [
            " 1:chartoascii 2:asciitochar 3:stid 4: typeofn2\n",
            "enter the ascii value: 65\n",
            "A\n"
          ]
        }
      ]
    },
    {
      "cell_type": "code",
      "metadata": {
        "colab": {
          "base_uri": "https://localhost:8080/"
        },
        "id": "9VN9qDw-FxPy",
        "outputId": "67062cb2-fc00-417c-a367-242af3e006d8"
      },
      "source": [
        "number=int(input('enter the number:'))\n",
        "sqrt=number**0.5\n",
        "print('square root is:',sqrt)"
      ],
      "execution_count": null,
      "outputs": [
        {
          "output_type": "stream",
          "text": [
            "enter the number:100\n",
            "square root is: 10.0\n"
          ],
          "name": "stdout"
        }
      ]
    },
    {
      "cell_type": "code",
      "metadata": {
        "colab": {
          "base_uri": "https://localhost:8080/"
        },
        "id": "WZ1T0nKWNzTJ",
        "outputId": "742dd8df-921c-4559-cc6f-daad4c5914ab"
      },
      "source": [
        "s1=input(\"Enter first string:\")\n",
        "s2=input(\"Enter second string:\")\n",
        "if(sorted(s1)==sorted(s2)):\n",
        "      print(\"The strings are anagrams.\")\n",
        "else:\n",
        "      print(\"The strings aren't anagrams.\")"
      ],
      "execution_count": null,
      "outputs": [
        {
          "output_type": "stream",
          "text": [
            "Enter first string:harsha\n",
            "Enter second string:arhsha\n",
            "The strings are anagrams.\n"
          ],
          "name": "stdout"
        }
      ]
    },
    {
      "cell_type": "code",
      "metadata": {
        "id": "ad7KwwMcTOXl"
      },
      "source": [
        ""
      ],
      "execution_count": null,
      "outputs": []
    },
    {
      "cell_type": "code",
      "metadata": {
        "colab": {
          "base_uri": "https://localhost:8080/"
        },
        "id": "9HmX7TgGHBId",
        "outputId": "17b95b73-3ec6-4e09-87c7-77cf92331296"
      },
      "source": [
        "operation = input('''\n",
        "Please type in the math operation you would like to complete:\n",
        "+ for addition\n",
        "- for subtraction\n",
        "* for multiplication\n",
        "/ for division\n",
        "''')\n",
        "\n",
        "number_1 = int(input('Enter your first number: '))\n",
        "number_2 = int(input('Enter your second number: '))\n",
        "\n",
        "print('{} + {} = '.format(number_1, number_2))\n",
        "print(number_1 + number_2)\n",
        "\n",
        "print('{} - {} = '.format(number_1, number_2))\n",
        "print(number_1 - number_2)\n",
        "\n",
        "print('{} * {} = '.format(number_1, number_2))\n",
        "print(number_1 * number_2)\n",
        "\n",
        "print('{} / {} = '.format(number_1, number_2))\n",
        "print(number_1 / number_2)"
      ],
      "execution_count": null,
      "outputs": [
        {
          "output_type": "stream",
          "name": "stdout",
          "text": [
            "\n",
            "Please type in the math operation you would like to complete:\n",
            "+ for addition\n",
            "- for subtraction\n",
            "* for multiplication\n",
            "/ for division\n",
            "+\n",
            "Enter your first number: 4\n",
            "Enter your second number: 5\n",
            "4 + 5 = \n",
            "9\n",
            "4 - 5 = \n",
            "-1\n",
            "4 * 5 = \n",
            "20\n",
            "4 / 5 = \n",
            "0.8\n"
          ]
        }
      ]
    },
    {
      "cell_type": "code",
      "metadata": {
        "colab": {
          "base_uri": "https://localhost:8080/"
        },
        "id": "OWRPRD6hJ11i",
        "outputId": "b29700e8-71b2-4afa-a1a0-50f645afa579"
      },
      "source": [
        "a=int(input('enter the value:'))\n",
        "b=int(input('enter the value:'))\n",
        "c=a&b\n",
        "print(\"the bitwise and\",c)\n",
        "c=a|b\n",
        "print(\"the bitwise not is\",c)\n",
        "c=a^b\n",
        "print(\"the bitwise exclusive or\",c)\n",
        "c=~a\n",
        "print(\"the bitwise complement\",c)\n",
        "c=a<<2\n",
        "print(\"the bitwise left shift\",c)\n",
        "c=a>>2\n",
        "print(\"the bitwise right shift\",c)\n"
      ],
      "execution_count": null,
      "outputs": [
        {
          "output_type": "stream",
          "name": "stdout",
          "text": [
            "enter the value:1\n",
            "enter the value:2\n",
            "the bitwise and 0\n",
            "the bitwise not is 3\n",
            "the bitwise exclusive or 3\n",
            "the bitwise complement -2\n",
            "the bitwise left shift 4\n",
            "the bitwise right shift 0\n"
          ]
        }
      ]
    },
    {
      "cell_type": "code",
      "metadata": {
        "colab": {
          "base_uri": "https://localhost:8080/"
        },
        "id": "saGHHdpeNAg7",
        "outputId": "e6d24305-81d5-4096-db22-206e5a049945"
      },
      "source": [
        "print(\"List of months: January, February, March, April, May, June, July, August, September, October, November, December\")\n",
        "year=int(input(\"enter a year\"))\n",
        "print(year)\n",
        "month_name = input(\"Input the name of Month: \")\n",
        "\n",
        "if month_name == \"February\":\n",
        "\tprint(\"No. of days: 28/29 days\")\n",
        "elif month_name in (\"April\", \"June\", \"September\", \"November\"):\n",
        "\tprint(\"No. of days: 30 days\")\n",
        "elif month_name in (\"January\", \"March\", \"May\", \"July\", \"August\", \"October\", \"December\"):\n",
        "\tprint(\"No. of days: 31 day\")\n",
        "else:\n",
        "   print('entered wrong input')\n",
        " \n",
        "\t"
      ],
      "execution_count": null,
      "outputs": [
        {
          "output_type": "stream",
          "text": [
            "List of months: January, February, March, April, May, June, July, August, September, October, November, December\n",
            "enter a year2020\n",
            "2020\n",
            "Input the name of Month: February\n",
            "No. of days: 28/29 days\n"
          ],
          "name": "stdout"
        }
      ]
    },
    {
      "cell_type": "code",
      "metadata": {
        "colab": {
          "base_uri": "https://localhost:8080/"
        },
        "id": "EQ4A6yoVSDdK",
        "outputId": "7c588602-7637-4ab6-dcce-e386cb9d588a"
      },
      "source": [
        "# Python program to find the number of days in a given month,year\n",
        "\n",
        "month = str(input())\n",
        "year = int(input())\n",
        "if(month == 'january' or month == 'march' or month == 'may' or month == 'july' or month == 'august' or month == 'october' or month =='december'):\n",
        "\tprint(\"Number of days is 31\")\n",
        "elif((month == 'febuary') and ((year%400==0) or (year%4==0 and year%100!=0))):\t\n",
        "\tprint(\"Number of days is 29\")\n",
        "elif(month == 'febuary'):\n",
        "\tprint(\" of days is 28\")\n",
        "else:\n",
        "\tprint(\"Number of days is 30\")"
      ],
      "execution_count": null,
      "outputs": [
        {
          "output_type": "stream",
          "name": "stdout",
          "text": [
            "october\n",
            "2021\n",
            "Number of days is 31\n"
          ]
        }
      ]
    },
    {
      "cell_type": "code",
      "metadata": {
        "id": "o59G8aWxXrj_",
        "colab": {
          "base_uri": "https://localhost:8080/"
        },
        "outputId": "e364e243-1d96-4a1d-8b58-b469f676fc43"
      },
      "source": [
        "\n",
        "x = ord('A')\n",
        "print(x)\n",
        "\n",
        "print(ord('ć'))\n",
        "print(ord('ç'))\n",
        "print(ord('$'))\n"
      ],
      "execution_count": null,
      "outputs": [
        {
          "output_type": "stream",
          "text": [
            "65\n",
            "263\n",
            "231\n",
            "36\n"
          ],
          "name": "stdout"
        }
      ]
    },
    {
      "cell_type": "code",
      "metadata": {
        "colab": {
          "base_uri": "https://localhost:8080/"
        },
        "id": "4Sapl-PSRiVi",
        "outputId": "0f3996b0-043a-4d52-a5b0-9dd4df40f0cd"
      },
      "source": [
        "\n",
        "y = chr(65)\n",
        "print(y)\n",
        "print(chr(123))\n",
        "print(chr(36))\n"
      ],
      "execution_count": null,
      "outputs": [
        {
          "output_type": "stream",
          "text": [
            "A\n",
            "{\n",
            "$\n"
          ],
          "name": "stdout"
        }
      ]
    },
    {
      "cell_type": "code",
      "metadata": {
        "colab": {
          "base_uri": "https://localhost:8080/"
        },
        "id": "SGLGDGWhSFYE",
        "outputId": "6c4b60b8-d465-48e4-91b9-1eac359079ee"
      },
      "source": [
        "print(chr(ord('ć')))\n",
        "print(ord(chr(65)))\n"
      ],
      "execution_count": null,
      "outputs": [
        {
          "output_type": "stream",
          "text": [
            "ć\n",
            "65\n"
          ],
          "name": "stdout"
        }
      ]
    },
    {
      "cell_type": "code",
      "metadata": {
        "colab": {
          "base_uri": "https://localhost:8080/"
        },
        "id": "fa1aANilSNv0",
        "outputId": "5471939c-88c0-4415-bb6e-f3f5c498f099"
      },
      "source": [
        "def TowerOfHanoi(n , source, destination, auxiliary):\n",
        "    if n==1:\n",
        "        print (\"Move disk 1 from source\",source,\"to destination\",destination)\n",
        "        return\n",
        "    TowerOfHanoi(n-1, source, auxiliary, destination)\n",
        "    print (\"Move disk\",n,\"from source\",source,\"to destination\",destination)\n",
        "    TowerOfHanoi(n-1, auxiliary, destination, source)\n",
        "          \n",
        "# Driver code\n",
        "n = 3\n",
        "TowerOfHanoi(n,'A','B','C')"
      ],
      "execution_count": null,
      "outputs": [
        {
          "output_type": "stream",
          "text": [
            "Move disk 1 from source A to destination B\n",
            "Move disk 2 from source A to destination C\n",
            "Move disk 1 from source B to destination C\n",
            "Move disk 3 from source A to destination B\n",
            "Move disk 1 from source C to destination A\n",
            "Move disk 2 from source C to destination B\n",
            "Move disk 1 from source A to destination B\n"
          ],
          "name": "stdout"
        }
      ]
    },
    {
      "cell_type": "code",
      "metadata": {
        "id": "Q3ec6QJSpFB8"
      },
      "source": [
        ""
      ],
      "execution_count": null,
      "outputs": []
    },
    {
      "cell_type": "code",
      "metadata": {
        "colab": {
          "base_uri": "https://localhost:8080/"
        },
        "id": "0CJQO18swZ4u",
        "outputId": "a5f64ac5-34c1-45d4-e1f0-8d47c0d99e5c"
      },
      "source": [
        "#11. Write Python program that accepts a sentence and calculate the number of words, digits,\n",
        "#uppercase letters and lowercase letters.\n",
        "x=input()\n",
        "words=x.count(\" \")\n",
        "print(\"no of words=\",end=\" \")\n",
        "print(words+1)\n",
        "d=0\n",
        "nu=0\n",
        "nl=0\n",
        "for i in x:\n",
        "  if ord(i)>=ord('0') and ord(i)<=ord('9'):\n",
        "    d+=1\n",
        "  elif ord(i)>=ord('A') and ord(i)<=ord('Z'):\n",
        "    nu+=1\n",
        "  elif ord(i)>=ord('a') and ord(i)<=ord('z'):\n",
        "    nl+=1\n",
        "print(\"no of digits in the sentence=\",end=\" \")\n",
        "print(d)\n",
        "print(\"no of upper case letters in sentence=\",end=\" \")\n",
        "print(nu)\n",
        "print(\"no of lower case letters in sentence=\",end=\" \")\n",
        "print(nl)\n"
      ],
      "execution_count": null,
      "outputs": [
        {
          "output_type": "stream",
          "name": "stdout",
          "text": [
            "harsha2002\n",
            "no of words= 1\n",
            "no of digits in the sentence= 4\n",
            "no of upper case letters in sentence= 0\n",
            "no of lower case letters in sentence= 6\n"
          ]
        }
      ]
    },
    {
      "cell_type": "code",
      "metadata": {
        "colab": {
          "base_uri": "https://localhost:8080/"
        },
        "id": "kAwDPSbVULM_",
        "outputId": "fcd28586-284b-4334-bbac-bbeb685c2753"
      },
      "source": [
        "# Python program to display the Fibonacci sequence\n",
        "\n",
        "def recur_fibo(n):\n",
        "   if n <= 1:\n",
        "       return n\n",
        "   else:\n",
        "       return(recur_fibo(n-1) + recur_fibo(n-2))\n",
        "\n",
        "nterms = 10\n",
        "\n",
        "# check if the number of terms is valid\n",
        "if nterms <= 0:\n",
        "   print(\"Plese enter a positive integer\")\n",
        "else:\n",
        "   print(\"Fibonacci sequence:\")\n",
        "   for i in range(nterms):\n",
        "       print(recur_fibo(i))\n"
      ],
      "execution_count": null,
      "outputs": [
        {
          "output_type": "stream",
          "text": [
            "Fibonacci sequence:\n",
            "0\n",
            "1\n",
            "1\n",
            "2\n",
            "3\n",
            "5\n",
            "8\n",
            "13\n",
            "21\n",
            "34\n"
          ],
          "name": "stdout"
        }
      ]
    },
    {
      "cell_type": "code",
      "metadata": {
        "colab": {
          "base_uri": "https://localhost:8080/"
        },
        "id": "fty7DBOsWIV2",
        "outputId": "0287c35b-c45d-4b71-9ba7-28b51d6277ac"
      },
      "source": [
        "def recur_factorial(n):\n",
        "    \"\"\"Function to return the factorial\n",
        "    of a number using recursion\"\"\"\n",
        "    if n == 1:\n",
        "        return n\n",
        "    else:\n",
        "        return n*recur_factorial(n-1)\n",
        "\n",
        "num=int(input(\"Enter the number: \"))\n",
        "\n",
        "print(\"factorial of \",num,\" (recursive): \",end=\"\")\n",
        "print(recur_factorial(num))"
      ],
      "execution_count": null,
      "outputs": [
        {
          "output_type": "stream",
          "text": [
            "Enter the number: 5\n",
            "factorial of  5  (recursive): 120\n"
          ],
          "name": "stdout"
        }
      ]
    },
    {
      "cell_type": "code",
      "metadata": {
        "colab": {
          "base_uri": "https://localhost:8080/"
        },
        "id": "_jPskiyeXaKG",
        "outputId": "139a3b9e-a918-4fbd-c9e9-2e75c58317a0"
      },
      "source": [
        "def gcd(a,b):\n",
        "    if(b==0):\n",
        "        return a\n",
        "    else:\n",
        "        return gcd(b,a%b)\n",
        "a=int(input(\"Enter first number:\"))\n",
        "b=int(input(\"Enter second number:\"))\n",
        "GCD=gcd(a,b)\n",
        "print(\"GCD is: \")\n",
        "print(GCD)"
      ],
      "execution_count": null,
      "outputs": [
        {
          "output_type": "stream",
          "text": [
            "Enter first number:25\n",
            "Enter second number:5\n",
            "GCD is: \n",
            "5\n"
          ],
          "name": "stdout"
        }
      ]
    },
    {
      "cell_type": "code",
      "metadata": {
        "colab": {
          "base_uri": "https://localhost:8080/"
        },
        "id": "ps0HwpGqJmJD",
        "outputId": "820d1bb4-8512-45c5-c1cd-ad08e70342d1"
      },
      "source": [
        "mydic={1:'harsha',2:'priya',3:'srikanth',4:'ravi'}\n",
        "x=mydic.get(1)\n",
        "print(x)\n",
        "print(mydic.keys())\n",
        "mydic.pop(1)\n",
        "print(mydic)\n",
        "dic1={5:'hs'}\n",
        "mydic.update(dic1)\n",
        "print(mydic)\n",
        "print(mydic.values())\n",
        "print(mydic.items())"
      ],
      "execution_count": null,
      "outputs": [
        {
          "output_type": "stream",
          "text": [
            "harsha\n",
            "dict_keys([1, 2, 3, 4])\n",
            "{2: 'priya', 3: 'srikanth', 4: 'ravi'}\n",
            "{2: 'priya', 3: 'srikanth', 4: 'ravi', 5: 'hs'}\n",
            "dict_values(['priya', 'srikanth', 'ravi', 'hs'])\n",
            "dict_items([(2, 'priya'), (3, 'srikanth'), (4, 'ravi'), (5, 'hs')])\n"
          ],
          "name": "stdout"
        }
      ]
    },
    {
      "cell_type": "code",
      "metadata": {
        "id": "STUYFAh3Liit"
      },
      "source": [
        ""
      ],
      "execution_count": null,
      "outputs": []
    },
    {
      "cell_type": "code",
      "metadata": {
        "id": "TGV64v9W8mWJ",
        "colab": {
          "base_uri": "https://localhost:8080/"
        },
        "outputId": "a52f59eb-d2f1-4fe9-b7e9-948f0c8e2689"
      },
      "source": [
        "#17. Discuss the following dictionary methods with an example.\n",
        "#a) get() b) keys() c) pop() d) update() e) values() f) items()\n",
        "mydic={1:'apple',2:'orange',3:'lemon'}\n",
        "x=mydic.get(1)\n",
        "print(x)\n",
        "print(mydic.keys())\n",
        "mydic.pop(2)\n",
        "print(mydic)\n",
        "dic1={4:'banana'}\n",
        "mydic.update(dic1)\n",
        "print(mydic)\n",
        "print(mydic.values())\n",
        "print(mydic.items())"
      ],
      "execution_count": null,
      "outputs": [
        {
          "output_type": "stream",
          "text": [
            "apple\n",
            "dict_keys([1, 2, 3])\n",
            "{1: 'apple', 3: 'lemon'}\n",
            "{1: 'apple', 3: 'lemon', 4: 'banana'}\n",
            "dict_values(['apple', 'lemon', 'banana'])\n",
            "dict_items([(1, 'apple'), (3, 'lemon'), (4, 'banana')])\n"
          ],
          "name": "stdout"
        }
      ]
    },
    {
      "cell_type": "code",
      "metadata": {
        "id": "1RgLcWzyTAGg"
      },
      "source": [
        ""
      ],
      "execution_count": null,
      "outputs": []
    },
    {
      "cell_type": "code",
      "metadata": {
        "id": "p7cdo_0j8cvH",
        "colab": {
          "base_uri": "https://localhost:8080/"
        },
        "outputId": "562fa67a-d5f4-4db4-968c-bb700ba0aca3"
      },
      "source": [
        "#15. A program to perform transpose of a matrix.\n",
        "rows= int(input(\"Number of rows:\"))\n",
        "cols = int(input(\"Number of columns:\"))\n",
        "X = [ ]\n",
        "print(\"Enter the entries row-wise:\")\n",
        "for i in range(rows):\n",
        "    a =[ ]\n",
        "    for j in range(cols):\n",
        "         a.append(int(input()))\n",
        "    X.append(a)\n",
        "result=[ ]\n",
        "for i in range(cols):\n",
        "    b =[ ]\n",
        "    for j in range(rows):\n",
        "         b.append(int(0))\n",
        "    result.append(b)\n",
        "for i in range(len(X)):\n",
        "   for j in range(len(X[0])):\n",
        "       result[j][i] = X[i][j]\n",
        "for r in result:\n",
        "   print(r)"
      ],
      "execution_count": null,
      "outputs": [
        {
          "output_type": "stream",
          "text": [
            "Number of rows:4\n",
            "Number of columns:4\n",
            "Enter the entries row-wise:\n",
            "1\n",
            "2\n",
            "3\n",
            "4\n",
            "5\n",
            "6\n",
            "7\n",
            "8\n",
            "9\n",
            "0\n",
            "2\n",
            "3\n",
            "2\n",
            "1\n",
            "5\n",
            "6\n",
            "[1, 5, 9, 2]\n",
            "[2, 6, 0, 1]\n",
            "[3, 7, 2, 5]\n",
            "[4, 8, 3, 6]\n"
          ],
          "name": "stdout"
        }
      ]
    },
    {
      "cell_type": "code",
      "metadata": {
        "colab": {
          "base_uri": "https://localhost:8080/"
        },
        "id": "b6xW9hFpX4xF",
        "outputId": "f1ac685d-ae48-4671-c1ca-f8944f487f0e"
      },
      "source": [
        "l=['harsha','sai','priya','sai','ramu','seetha']\n",
        "l.append('hs')\n",
        "print(l)"
      ],
      "execution_count": null,
      "outputs": [
        {
          "output_type": "stream",
          "text": [
            "['harsha', 'sai', 'priya', 'sai', 'ramu', 'seetha', 'hs']\n"
          ],
          "name": "stdout"
        }
      ]
    },
    {
      "cell_type": "code",
      "metadata": {
        "colab": {
          "base_uri": "https://localhost:8080/"
        },
        "id": "kKN_wlp1aU6s",
        "outputId": "fb3abdb1-f0f1-428e-e6f7-6d876b888fcf"
      },
      "source": [
        "l1=[1,2,3,4,5,6,7,8,9]\n",
        "l2=[1,2,3,4,5]\n",
        "l1.extend(l2)\n",
        "print(l1)\n",
        "l2.extend(l1)\n",
        "print(l2)\n"
      ],
      "execution_count": null,
      "outputs": [
        {
          "output_type": "stream",
          "text": [
            "[1, 2, 3, 4, 5, 6, 7, 8, 9, 1, 2, 3, 4, 5]\n",
            "[1, 2, 3, 4, 5, 1, 2, 3, 4, 5, 6, 7, 8, 9, 1, 2, 3, 4, 5]\n"
          ],
          "name": "stdout"
        }
      ]
    },
    {
      "cell_type": "code",
      "metadata": {
        "colab": {
          "base_uri": "https://localhost:8080/"
        },
        "id": "RHDbgXE-cxmT",
        "outputId": "0959e001-d3d2-4e8e-f0cd-fc5a836c100a"
      },
      "source": [
        "\n",
        "List = [1, 2, 3, 1, 2, 1, 2, 3, 2, 1]\n",
        "print(List.index(2))"
      ],
      "execution_count": null,
      "outputs": [
        {
          "output_type": "stream",
          "text": [
            "1\n"
          ],
          "name": "stdout"
        }
      ]
    },
    {
      "cell_type": "code",
      "metadata": {
        "colab": {
          "base_uri": "https://localhost:8080/"
        },
        "id": "gSO7Rumkdc2H",
        "outputId": "d1c10aa7-71c7-49df-dc98-c708d41cbb83"
      },
      "source": [
        "list=[2,4,6,8,0]\n",
        "print(list.pop())"
      ],
      "execution_count": null,
      "outputs": [
        {
          "output_type": "stream",
          "text": [
            "0\n"
          ],
          "name": "stdout"
        }
      ]
    },
    {
      "cell_type": "code",
      "metadata": {
        "colab": {
          "base_uri": "https://localhost:8080/"
        },
        "id": "4IxFlcYRePpT",
        "outputId": "e8ec547d-9703-4926-af0a-cc199a90050a"
      },
      "source": [
        "list=[1,3,4,5,6,7]\n",
        "print(list.pop(3))"
      ],
      "execution_count": null,
      "outputs": [
        {
          "output_type": "stream",
          "text": [
            "5\n"
          ],
          "name": "stdout"
        }
      ]
    },
    {
      "cell_type": "code",
      "metadata": {
        "colab": {
          "base_uri": "https://localhost:8080/"
        },
        "id": "e-RJDb-herDj",
        "outputId": "7c8cd7dd-fedd-471a-e691-d1d19168b58f"
      },
      "source": [
        "list=[1,2,3,4,5,6,7,8,9]\n",
        "del list[2]\n",
        "print(list)\n"
      ],
      "execution_count": null,
      "outputs": [
        {
          "output_type": "stream",
          "text": [
            "[1, 2, 4, 5, 6, 7, 8, 9]\n"
          ],
          "name": "stdout"
        }
      ]
    },
    {
      "cell_type": "code",
      "metadata": {
        "colab": {
          "base_uri": "https://localhost:8080/"
        },
        "id": "InjSNdF_fKdT",
        "outputId": "c8433a05-6b21-4674-a8f8-2263532688a7"
      },
      "source": [
        "list=['hs','priyarajkiran','prakash','ravi']\n",
        "list.remove('priyarajkiran')\n",
        "print(list)\n"
      ],
      "execution_count": null,
      "outputs": [
        {
          "output_type": "stream",
          "text": [
            "['hs', 'prakash', 'ravi']\n"
          ],
          "name": "stdout"
        }
      ]
    },
    {
      "cell_type": "code",
      "metadata": {
        "colab": {
          "base_uri": "https://localhost:8080/"
        },
        "id": "wegRR8PtgORB",
        "outputId": "4215e5a7-3d50-40df-9cc1-9ec2527cb178"
      },
      "source": [
        "list=['a','c','f','d','t','y']\n",
        "list.sort()\n",
        "print(list)"
      ],
      "execution_count": null,
      "outputs": [
        {
          "output_type": "stream",
          "text": [
            "['a', 'c', 'd', 'f', 't', 'y']\n"
          ],
          "name": "stdout"
        }
      ]
    },
    {
      "cell_type": "code",
      "metadata": {
        "colab": {
          "base_uri": "https://localhost:8080/"
        },
        "id": "JW1FDA0gg_p5",
        "outputId": "1eea0e0e-949a-46d5-a71b-b23534fc0099"
      },
      "source": [
        "list=['harsha','sai','srikanth']\n",
        "list.insert('ravi')\n",
        "print(list)\n"
      ],
      "execution_count": null,
      "outputs": [
        {
          "output_type": "stream",
          "text": [
            "['harsha', 'sai', 'ravi', 'srikanth']\n"
          ],
          "name": "stdout"
        }
      ]
    },
    {
      "cell_type": "code",
      "metadata": {
        "colab": {
          "base_uri": "https://localhost:8080/"
        },
        "id": "0YicqAwrhgAu",
        "outputId": "cf5499bd-ef27-40fd-ff5b-fb140b3b5a8a"
      },
      "source": [
        "t=(1,2,3)\n",
        "x=list(t)\n",
        "x.append('surender')\n",
        "t=tuple(x)\n",
        "print(tuple)"
      ],
      "execution_count": null,
      "outputs": [
        {
          "output_type": "stream",
          "text": [
            "<class 'tuple'>\n"
          ],
          "name": "stdout"
        }
      ]
    },
    {
      "cell_type": "code",
      "metadata": {
        "colab": {
          "base_uri": "https://localhost:8080/"
        },
        "id": "667V3wxdsXoZ",
        "outputId": "38d9a808-01b8-4380-d6bb-a1c0118448ef"
      },
      "source": [
        "# Python code to remove duplicate elements\n",
        "def Remove(duplicate):\n",
        "\tfinal_list = []\n",
        "\tfor num in duplicate:\n",
        "\t\tif num not in final_list:\n",
        "\t\t\tfinal_list.append(num)\n",
        "\treturn final_list\n",
        "\t\n",
        "# Driver Code\n",
        "duplicate = [2, 4, 10, 20, 5, 2, 20, 4]\n",
        "print(Remove(duplicate))\n"
      ],
      "execution_count": null,
      "outputs": [
        {
          "output_type": "stream",
          "text": [
            "[2, 4, 10, 20, 5]\n"
          ],
          "name": "stdout"
        }
      ]
    },
    {
      "cell_type": "code",
      "metadata": {
        "id": "h_3fhAQOsn6H",
        "colab": {
          "base_uri": "https://localhost:8080/"
        },
        "outputId": "241544f8-e2a1-4492-8b96-05a2706d8bcd"
      },
      "source": [
        "\n",
        "'''6. A menu driven program to find the properties of numbers.(Prime, Armstrong, Strong, Perfect) (create user defined functions)'''\n",
        "def prime(n):\n",
        "  flag = 0\n",
        "  for i in range(2, n):\n",
        "      if (n % i) == 0:\n",
        "          flag = 1\n",
        "          break\n",
        "  if flag==1:\n",
        "    print(n, \"is not a prime number\")\n",
        "  else:\n",
        "    print(n, \"is a prime number\")\n",
        "def armstrong(n):\n",
        "  sum = 0\n",
        "  temp = n\n",
        "  order=len(str(n))\n",
        "  while temp > 0:\n",
        "    digit = temp % 10\n",
        "    sum += digit ** order\n",
        "    temp //= 10\n",
        "  if n == sum:\n",
        "   print(n,\"is an Armstrong number\")\n",
        "  else:\n",
        "   print(n,\"is not an Armstrong number\")\n",
        "def strong(n):\n",
        "  sum1=0\n",
        "  temp=n\n",
        "  while(n):\n",
        "    i=1\n",
        "    f=1\n",
        "    r=n%10\n",
        "    while(i<=r):\n",
        "        f=f*i\n",
        "        i=i+1\n",
        "    sum1=sum1+f\n",
        "    n=n//10\n",
        "  if sum1==temp:\n",
        "    print(f\"The number {temp} is a strong number\")\n",
        "  else:\n",
        "    print(f\"The number {temp} is not a strong number\")\n",
        "def perfect(n):\n",
        "  Sum = 0\n",
        "  for i in range(1, n):\n",
        "    if(n % i == 0):\n",
        "        Sum = Sum + i\n",
        "  if (Sum == n):\n",
        "    print(\" %d is a Perfect Number\" %n)\n",
        "  else:\n",
        "    print(\" %d is not a Perfect Number\" %n)\n",
        "x=input(''' 1:prime 2:armstrong 3:strong 4: perfect''')\n",
        "y=int(input('enter the number:'))\n",
        "if '1' in x:\n",
        "  prime(y)\n",
        "if '2' in x:\n",
        "  armstrong(y)\n",
        "if '3' in x:\n",
        "  strong(y)\n",
        "if '4' in x:\n",
        "  perfect(y)"
      ],
      "execution_count": null,
      "outputs": [
        {
          "output_type": "stream",
          "name": "stdout",
          "text": [
            " 1:prime 2:armstrong 3:strong 4: perfect3\n",
            "enter the number:145\n",
            "The number 145 is a strong number\n"
          ]
        }
      ]
    },
    {
      "cell_type": "code",
      "metadata": {
        "colab": {
          "base_uri": "https://localhost:8080/"
        },
        "id": "FIE10O4HY0Zq",
        "outputId": "34746334-b840-48bc-9010-c6035f0a403d"
      },
      "source": [
        "string=input((\"Enter a string:\"))\n",
        "if(string==string[::-1]):\n",
        "      print(\"The string is a palindrome\")\n",
        "else:\n",
        "      print(\"Not a palindrome\")"
      ],
      "execution_count": null,
      "outputs": [
        {
          "output_type": "stream",
          "text": [
            "Enter a string:madam\n",
            "The string is a palindrome\n"
          ],
          "name": "stdout"
        }
      ]
    },
    {
      "cell_type": "code",
      "metadata": {
        "colab": {
          "base_uri": "https://localhost:8080/"
        },
        "id": "Ne2Varb2afjB",
        "outputId": "963d6323-42f3-4442-ec7b-ff06253fbf6b"
      },
      "source": [
        "# Python Program to Check a Given String is Palindrome or Not\n",
        "\n",
        "def reverse(str1):\n",
        "    if(len(str1) == 0):\n",
        "        return str1\n",
        "    else:\n",
        "        return reverse(str1[1 : ]) + str1[0]\n",
        "    \n",
        "string = input(\"Please enter your own String : \")\n",
        "str1 = reverse(string)\n",
        "print(\"String in reverse Order :  \", str1)\n",
        "\n",
        "if(string == str1):\n",
        "   print(\"This is a Palindrome String\")\n",
        "else:\n",
        "   print(\"This is Not a Palindrome String\")"
      ],
      "execution_count": null,
      "outputs": [
        {
          "output_type": "stream",
          "text": [
            "Please enter your own String : madam\n",
            "String in reverse Order :   madam\n",
            "This is a Palindrome String\n"
          ],
          "name": "stdout"
        }
      ]
    },
    {
      "cell_type": "code",
      "metadata": {
        "id": "JfAE9z11anAV",
        "colab": {
          "base_uri": "https://localhost:8080/",
          "height": 184
        },
        "outputId": "18e04dc0-646f-49d7-e572-95204cfd1350"
      },
      "source": [
        ""
      ],
      "execution_count": null,
      "outputs": [
        {
          "output_type": "error",
          "ename": "NameError",
          "evalue": "ignored",
          "traceback": [
            "\u001b[0;31m---------------------------------------------------------------------------\u001b[0m",
            "\u001b[0;31mNameError\u001b[0m                                 Traceback (most recent call last)",
            "\u001b[0;32m<ipython-input-3-69c52819f162>\u001b[0m in \u001b[0;36m<module>\u001b[0;34m()\u001b[0m\n\u001b[1;32m      1\u001b[0m \u001b[0mdulpicate\u001b[0m \u001b[0;34m=\u001b[0m \u001b[0;34m[\u001b[0m\u001b[0;36m2\u001b[0m\u001b[0;34m,\u001b[0m\u001b[0;36m4\u001b[0m\u001b[0;34m,\u001b[0m\u001b[0;36m10\u001b[0m\u001b[0;34m,\u001b[0m\u001b[0;36m20\u001b[0m\u001b[0;34m,\u001b[0m\u001b[0;36m5\u001b[0m\u001b[0;34m,\u001b[0m\u001b[0;36m2\u001b[0m\u001b[0;34m,\u001b[0m\u001b[0;36m20\u001b[0m\u001b[0;34m,\u001b[0m\u001b[0;36m4\u001b[0m\u001b[0;34m]\u001b[0m\u001b[0;34m\u001b[0m\u001b[0;34m\u001b[0m\u001b[0m\n\u001b[0;32m----> 2\u001b[0;31m \u001b[0mprint\u001b[0m\u001b[0;34m(\u001b[0m\u001b[0mlist\u001b[0m\u001b[0;34m(\u001b[0m\u001b[0mset\u001b[0m\u001b[0;34m(\u001b[0m\u001b[0mduplicate\u001b[0m\u001b[0;34m)\u001b[0m\u001b[0;34m)\u001b[0m\u001b[0;34m)\u001b[0m\u001b[0;34m\u001b[0m\u001b[0;34m\u001b[0m\u001b[0m\n\u001b[0m",
            "\u001b[0;31mNameError\u001b[0m: name 'duplicate' is not defined"
          ]
        }
      ]
    },
    {
      "cell_type": "code",
      "metadata": {
        "id": "PYSdaw-5gIXU"
      },
      "source": [
        ""
      ],
      "execution_count": null,
      "outputs": []
    },
    {
      "cell_type": "code",
      "metadata": {
        "colab": {
          "base_uri": "https://localhost:8080/"
        },
        "id": "a34jis0Div8d",
        "outputId": "7cc8e248-9ce0-4d10-97d0-f8fb04dbe3db"
      },
      "source": [
        "\n",
        "from math import factorial\n",
        "def c(n,r):\n",
        "  ncr=1\n",
        "  ncr=(factorial(n))//(factorial(n-r)*factorial(r))\n",
        "  return ncr\n",
        "def pascalstriangle(n):\n",
        "  for i in range(n):\n",
        "    for j in range(n-i):\n",
        "      print(end=\" \")\n",
        "    for j in range(i+1):\n",
        "      print(c(i,j), end=\" \")\n",
        "    print()\n",
        "x=int(input(\"1:combination 2:pascalstriangle\"))\n",
        "if x==1:\n",
        "  n=int(input(\"enter the n value: \"))\n",
        "  r=int(input(\"enter the r value: \"))\n",
        "  y=c(n,r)\n",
        "  print(y)\n",
        "elif x==2:\n",
        "  n=int(input(\"enter the no of rows to be taken: \"))\n",
        "  pascalstriangle(n)\n",
        "else:\n",
        "  print(\"enter the valid value \")\n"
      ],
      "execution_count": null,
      "outputs": [
        {
          "output_type": "stream",
          "text": [
            "1:combination 2:pascalstriangle2\n",
            "enter the no of rows to be taken: 4\n",
            "    1 \n",
            "   1 1 \n",
            "  1 2 1 \n",
            " 1 3 3 1 \n"
          ],
          "name": "stdout"
        }
      ]
    },
    {
      "cell_type": "code",
      "metadata": {
        "colab": {
          "base_uri": "https://localhost:8080/"
        },
        "id": "RbuBHkz-hL7G",
        "outputId": "194c5daf-d322-4755-e90b-36b51f5b8138"
      },
      "source": [
        "# Print Pascal's Triangle in Python\n",
        "from math import factorial\n",
        "\n",
        "# input n\n",
        "n = 5\n",
        "for i in range(n):\n",
        "\tfor j in range(n-i+1):\n",
        "\n",
        "\t\t# for left spacing\n",
        "\t\tprint(end=\" \")\n",
        "\n",
        "\tfor j in range(i+1):\n",
        "\n",
        "\t\t# nCr = n!/((n-r)!*r!)\n",
        "\t\tprint(factorial(i)//(factorial(j)*factorial(i-j)), end=\" \")\n",
        "\n",
        "\t# for new line\n",
        "\tprint()\n"
      ],
      "execution_count": null,
      "outputs": [
        {
          "output_type": "stream",
          "text": [
            "      1 \n",
            "     1 1 \n",
            "    1 2 1 \n",
            "   1 3 3 1 \n",
            "  1 4 6 4 1 \n"
          ],
          "name": "stdout"
        }
      ]
    },
    {
      "cell_type": "code",
      "metadata": {
        "id": "CsLJSz5Yiij-"
      },
      "source": [
        "\n",
        "\n"
      ],
      "execution_count": null,
      "outputs": []
    },
    {
      "cell_type": "code",
      "metadata": {
        "colab": {
          "base_uri": "https://localhost:8080/"
        },
        "id": "NLv2bUB08rEl",
        "outputId": "ccf82a7c-a516-440f-f2c2-e0c597dc1782"
      },
      "source": [
        "#18. Create a user defined function to check whether a given string is Palindrome or not.\n",
        "def palindrome(x):\n",
        "  y=x[::-1]\n",
        "  if y==x:\n",
        "    print(\"the given string\",x,\"is palindrome string\")\n",
        "  else:\n",
        "    print(\"the given string\",x,\"is not a palindrome string\")\n",
        "x=input(\"enter the required string: \")\n",
        "palindrome(x)\n"
      ],
      "execution_count": null,
      "outputs": [
        {
          "output_type": "stream",
          "name": "stdout",
          "text": [
            "enter the required string: malayalam\n",
            "the given string malayalam is palindrome string\n"
          ]
        }
      ]
    }
  ]
}